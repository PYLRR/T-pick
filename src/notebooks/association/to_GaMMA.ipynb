{
 "cells": [
  {
   "cell_type": "code",
   "id": "initial_id",
   "metadata": {
    "collapsed": true,
    "ExecuteTime": {
     "end_time": "2024-10-21T15:33:51.779951Z",
     "start_time": "2024-10-21T15:33:51.775146Z"
    }
   },
   "source": [
    "import numpy as np\n",
    "import pandas as pd \n",
    "from huge_dataset_project.InputLoader import InputFile\n",
    "from huge_dataset_project.PickLoader import PickFile"
   ],
   "outputs": [],
   "execution_count": 3
  },
  {
   "metadata": {
    "ExecuteTime": {
     "end_time": "2024-10-21T15:33:52.149627Z",
     "start_time": "2024-10-21T15:33:52.051076Z"
    }
   },
   "cell_type": "code",
   "source": [
    "year = 2012\n",
    "associations_file = f\"../../data/detections/{year}/matchups_clusters_loc_adjusted_experiment.csv\"\n",
    "\n",
    "# ground truth of evaluation\n",
    "pick_file = \"/home/plerolland/Documents/Seismic_catalogs/Indian/2012/2012_SEIR_12Dec_29S.pick\"\n",
    "input_file = \"/home/plerolland/Documents/Seismic_catalogs/Indian/2012/2012_SEIR_Network.input\"\n",
    "\n",
    "max_d_time, max_d_space = 20, 0.3\n",
    "\n",
    "picks = PickFile(pick_file)\n",
    "inputs = InputFile(input_file)\n",
    "inputs.hydrophone_letters = list(inputs.hydrophone_letters)"
   ],
   "id": "572076f01e0a3d1e",
   "outputs": [],
   "execution_count": 4
  },
  {
   "metadata": {
    "ExecuteTime": {
     "end_time": "2024-10-21T15:33:52.456955Z",
     "start_time": "2024-10-21T15:33:52.435061Z"
    }
   },
   "cell_type": "code",
   "source": [
    "res = []\n",
    "for i, pick in enumerate(picks.picks):\n",
    "    done = set()\n",
    "    for j, h in enumerate(pick.hydrophones):\n",
    "        if h in [\"C\",\"D\",\"E\"] and (\"C\" in done or \"D\" in done or \"E\" in done):\n",
    "            continue\n",
    "        done.add(h)\n",
    "        idx = inputs.hydrophone_letters.index(h)\n",
    "        pos = inputs.hydrophone_coords[idx]\n",
    "        date = pick.detection_times[j]\n",
    "        res.append([date.strftime(\"%Y%m%d_%H%M%S\"), h, i])\n",
    "df = pd.DataFrame(np.array(res))\n",
    "df.columns = [\"date\", \"id\", \"association\"]\n",
    "df.to_csv(\"seir_12dec.csv\")\n",
    "\n",
    "res = []\n",
    "for i, h in enumerate(inputs.hydrophone_letters):\n",
    "    res.append([h] + list(inputs.hydrophone_coords[i][:-1]))\n",
    "df = pd.DataFrame(np.array(res))\n",
    "df.columns = [\"id\", \"lat\", \"lon\"]\n",
    "df.to_csv(\"seir_12dec_sta.csv\")"
   ],
   "id": "40c34024e86fd393",
   "outputs": [],
   "execution_count": 5
  },
  {
   "metadata": {},
   "cell_type": "code",
   "outputs": [],
   "execution_count": null,
   "source": "",
   "id": "e47bbe371f632b63"
  }
 ],
 "metadata": {
  "kernelspec": {
   "display_name": "Python 3",
   "language": "python",
   "name": "python3"
  },
  "language_info": {
   "codemirror_mode": {
    "name": "ipython",
    "version": 2
   },
   "file_extension": ".py",
   "mimetype": "text/x-python",
   "name": "python",
   "nbconvert_exporter": "python",
   "pygments_lexer": "ipython2",
   "version": "2.7.6"
  }
 },
 "nbformat": 4,
 "nbformat_minor": 5
}
