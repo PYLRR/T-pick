{
 "cells": [
  {
   "cell_type": "code",
   "id": "initial_id",
   "metadata": {
    "collapsed": true,
    "ExecuteTime": {
     "end_time": "2024-10-23T17:57:59.592437Z",
     "start_time": "2024-10-23T17:57:58.682626Z"
    }
   },
   "source": [
    "import pickle\n",
    "\n",
    "import glob2\n",
    "import datetime\n",
    "\n",
    "import numpy as np\n",
    "from utils.data_reading.sound_data.station import StationsCatalog"
   ],
   "outputs": [],
   "execution_count": 1
  },
  {
   "metadata": {
    "ExecuteTime": {
     "end_time": "2024-10-23T17:57:59.765878Z",
     "start_time": "2024-10-23T17:57:59.606588Z"
    }
   },
   "cell_type": "code",
   "source": [
    "datasets_yaml = \"/home/plerolland/Bureau/dataset.yaml\"\n",
    "year = 2012\n",
    "stations_c = StationsCatalog(datasets_yaml).filter_out_undated().filter_out_unlocated()\n",
    "\n",
    "# output\n",
    "detections_file = f\"../../data/detections/{year}/detections.npy\""
   ],
   "id": "e0132cae0dd1923e",
   "outputs": [],
   "execution_count": 2
  },
  {
   "metadata": {
    "ExecuteTime": {
     "end_time": "2024-10-23T17:59:49.144753Z",
     "start_time": "2024-10-23T17:58:00.046696Z"
    }
   },
   "cell_type": "code",
   "source": [
    "to_read = glob2.glob(f\"../../data/detections/{year}/*.p\")\n",
    "\n",
    "detections = {}\n",
    "for file in to_read:\n",
    "    info = file.split(\"_\")[-1][:-2].split(\"-\")\n",
    "    name, year_station = \"-\".join(info[:-1]), int(info[-1])\n",
    "    station = stations_c.by_starting_year(year_station).by_names(name)[0]\n",
    "    detections[station] = []\n",
    "    with open(file, \"rb\") as f:\n",
    "        while True:\n",
    "            try:\n",
    "                detections[station].append(pickle.load(f))\n",
    "            except EOFError:\n",
    "                break\n",
    "                \n",
    "    detections[station] = np.array(detections[station])\n",
    "    detections[station] = detections[station][np.argsort(detections[station][:,0])]\n",
    "\n",
    "    # merge close detections\n",
    "    to_del = set()\n",
    "    i, j = 0, 0\n",
    "    while j<len(detections[station]):\n",
    "        delta = (np.abs(detections[station][i,0] - detections[station][j,0]))\n",
    "        if delta.total_seconds() < 5:\n",
    "            detections[station][i,0] += delta / 2\n",
    "            to_del.add(j)\n",
    "        else:\n",
    "            i = j\n",
    "        j+=1\n",
    "    detections[station] = np.delete(detections[station], list(to_del), axis=0)\n",
    "    \n",
    "    print(f\"{len(list(to_del))} lines deleted ; {len(detections[station])} left for station {station}\")\n",
    "np.save(detections_file, detections)"
   ],
   "id": "7d927f5aba118e44",
   "outputs": [
    {
     "name": "stdout",
     "output_type": "stream",
     "text": [
      "7 lines deleted ; 192469 left for station station_MAD_2012\n",
      "42 lines deleted ; 401820 left for station station_NCRO3_2012\n",
      "15 lines deleted ; 365641 left for station station_NEAMS_2012\n",
      "1 lines deleted ; 28280 left for station station_RAMA_2012\n",
      "6 lines deleted ; 165665 left for station station_SWAMS_2012\n",
      "6 lines deleted ; 359998 left for station station_WKER1_2012\n",
      "37 lines deleted ; 335628 left for station station_WKER2_2012\n",
      "17 lines deleted ; 513066 left for station station_WKER3_2012\n",
      "3 lines deleted ; 58331 left for station station_MAD_2011\n",
      "7 lines deleted ; 42711 left for station station_NCRO2_2011\n",
      "1 lines deleted ; 6951 left for station station_NCRO3_2011\n",
      "4 lines deleted ; 56984 left for station station_WKER1_2011\n",
      "18 lines deleted ; 398280 left for station station_H01W1_2012\n",
      "4 lines deleted ; 141976 left for station station_H08N1_2012\n",
      "7 lines deleted ; 202738 left for station station_H08S1_2012\n"
     ]
    }
   ],
   "execution_count": 3
  },
  {
   "metadata": {},
   "cell_type": "code",
   "outputs": [],
   "execution_count": null,
   "source": "",
   "id": "da605e953febe106"
  }
 ],
 "metadata": {
  "kernelspec": {
   "display_name": "Python 3",
   "language": "python",
   "name": "python3"
  },
  "language_info": {
   "codemirror_mode": {
    "name": "ipython",
    "version": 2
   },
   "file_extension": ".py",
   "mimetype": "text/x-python",
   "name": "python",
   "nbconvert_exporter": "python",
   "pygments_lexer": "ipython2",
   "version": "2.7.6"
  }
 },
 "nbformat": 4,
 "nbformat_minor": 5
}
